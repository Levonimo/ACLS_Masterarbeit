{
 "cells": [
  {
   "cell_type": "code",
   "execution_count": null,
   "id": "initial_id",
   "metadata": {
    "collapsed": true
   },
   "outputs": [],
   "source": [
    "import master_function as mf\n",
    "import numpy as np\n",
    "\n",
    "\n",
    "PATH = \"C:/Users/level/OneDrive - ZHAW/Masterarbeit/mzML/001_A1_1_OOO.mzML\"\n",
    "\n",
    "Chrom_000 = mf.mzml_to_dict(PATH)\n",
    "\n",
    "mf.plot_chromatograms(Chrom_000)\n",
    "\n",
    "Peaks_000= mf.extract_peaks(Chrom_000, 2e6)\n",
    "\n",
    "\n",
    "\n",
    "\n",
    "mf.plot_chromatograms(Peaks_000)\n",
    "\n",
    "\n",
    "\n",
    "import matplotlib.pyplot as plt\n",
    "spectra = Peaks_000.values()[0]\n",
    "mZ_totlist = np.arange(20, 400.1, 0.1)\n",
    "# Plotte das Spektrum als Balkendiagramm\n",
    "plt.bar(np.arange(mZ_totlist, spectra))\n",
    "\n",
    "plt.show()"
   ]
  }
 ],
 "metadata": {
  "kernelspec": {
   "display_name": "Python 3",
   "language": "python",
   "name": "python3"
  },
  "language_info": {
   "codemirror_mode": {
    "name": "ipython",
    "version": 2
   },
   "file_extension": ".py",
   "mimetype": "text/x-python",
   "name": "python",
   "nbconvert_exporter": "python",
   "pygments_lexer": "ipython2",
   "version": "2.7.6"
  }
 },
 "nbformat": 4,
 "nbformat_minor": 5
}
